{
 "cells": [
  {
   "cell_type": "code",
   "execution_count": 2,
   "id": "5330a305",
   "metadata": {},
   "outputs": [
    {
     "ename": "OperationalError",
     "evalue": "table CLIENTES already exists",
     "output_type": "error",
     "traceback": [
      "\u001b[1;31m---------------------------------------------------------------------------\u001b[0m",
      "\u001b[1;31mOperationalError\u001b[0m                          Traceback (most recent call last)",
      "\u001b[1;32m~\\AppData\\Local\\Temp/ipykernel_7552/2042715996.py\u001b[0m in \u001b[0;36m<module>\u001b[1;34m\u001b[0m\n\u001b[0;32m     12\u001b[0m         \u001b[0mDNI\u001b[0m \u001b[0mCHAR\u001b[0m\u001b[1;33m(\u001b[0m\u001b[1;36m9\u001b[0m\u001b[1;33m)\u001b[0m\u001b[1;33m,\u001b[0m\u001b[1;33m\u001b[0m\u001b[1;33m\u001b[0m\u001b[0m\n\u001b[0;32m     13\u001b[0m         PAIS CHAR(20) )\"\"\"\n\u001b[1;32m---> 14\u001b[1;33m \u001b[0mcursor\u001b[0m\u001b[1;33m.\u001b[0m\u001b[0mexecute\u001b[0m\u001b[1;33m(\u001b[0m\u001b[0mquery\u001b[0m\u001b[1;33m)\u001b[0m\u001b[1;31m#pasa como parametro el query creado anteriormente y lo ejecuta el cursor\u001b[0m\u001b[1;33m\u001b[0m\u001b[1;33m\u001b[0m\u001b[0m\n\u001b[0m\u001b[0;32m     15\u001b[0m \u001b[1;33m\u001b[0m\u001b[0m\n\u001b[0;32m     16\u001b[0m \u001b[0mconn\u001b[0m\u001b[1;33m.\u001b[0m\u001b[0mcommit\u001b[0m\u001b[1;33m(\u001b[0m\u001b[1;33m)\u001b[0m\u001b[1;31m#guardamos los cambios realizados\u001b[0m\u001b[1;33m\u001b[0m\u001b[1;33m\u001b[0m\u001b[0m\n",
      "\u001b[1;31mOperationalError\u001b[0m: table CLIENTES already exists"
     ]
    }
   ],
   "source": [
    "import sqlite3\n",
    "\n",
    "conn = sqlite3.connect('tienda.db')#crea la base de datos tienda\n",
    "\n",
    "cursor = conn.cursor()#agrega el objeto cursor\n",
    "\n",
    "cursor.execute(\"DROP TABLE IF EXISTS STUDENT\")#borra la tabla si ya existe\n",
    "# create query\n",
    "query = \"\"\"CREATE TABLE CLIENTES(\n",
    "        ID INT PRIMARY KEY NOT NULL,\n",
    "        NOMBRE CHAR(20) NOT NULL, \n",
    "        DNI CHAR(9), \n",
    "        PAIS CHAR(20) )\"\"\"\n",
    "cursor.execute(query)#pasa como parametro el query creado anteriormente y lo ejecuta el cursor\n",
    "\n",
    "conn.commit()#guardamos los cambios realizados\n"
   ]
  },
  {
   "cell_type": "code",
   "execution_count": 12,
   "id": "9d415cb0",
   "metadata": {},
   "outputs": [],
   "source": [
    "\n",
    "\n",
    "conn.execute ( \"INSERT INTO CLIENTES (ID, NOMBRE, DNI, PAIS)\" \n",
    "             \"VALUES (1, 'Pablo', '04564729T', 'España')\" )\n",
    "#Inserta los datos de los alumnos\n",
    "conn.execute ( \"INSERT INTO CLIENTES (ID, NOMBRE, DNI, PAIS)\" \n",
    "             \"VALUES (2, 'Luis', '00234586L', 'Bolivia')\" )\n",
    "conn.execute ( \"INSERT INTO CLIENTES (ID, NOMBRE, DNI, PAIS)\" \n",
    "             \"VALUES (3, 'Maria', '00232458L', 'Ecuador')\" )\n",
    "conn.commit () \n"
   ]
  },
  {
   "cell_type": "code",
   "execution_count": 3,
   "id": "6b8fd6cd",
   "metadata": {},
   "outputs": [
    {
     "name": "stdout",
     "output_type": "stream",
     "text": [
      "[(1, 'Pablo', '04564729T', 'España'), (3, 'Laura', '00232458L', 'Alemania')]\n"
     ]
    }
   ],
   "source": [
    "consulta=\"select * from CLIENTES\" #sentencia para leer la tabla\n",
    "cursor.execute(consulta)#pasa como parametro la consulta realizada creado anteriormente y lo ejecuta el cursor\n",
    "resultado=cursor.fetchall()\n",
    "print(resultado)"
   ]
  },
  {
   "cell_type": "code",
   "execution_count": 4,
   "id": "3c5a36f2",
   "metadata": {},
   "outputs": [
    {
     "name": "stdout",
     "output_type": "stream",
     "text": [
      "[(1, 'Pablo', '04564729T', 'España'), (3, 'Laura', '00232458L', 'Alemania')]\n"
     ]
    }
   ],
   "source": [
    "conn.execute ( \"update clientes SET NOMBRE = 'Laura', PAIS= 'Alemania' WHERE ID = 3;\" ) #sentencia para modificar la tabla\n",
    "conn.commit ()\n",
    "\n",
    "consulta=\"select * from CLIENTES\"\n",
    "cursor.execute(consulta)\n",
    "resultado=cursor.fetchall()\n",
    "print(resultado)"
   ]
  },
  {
   "cell_type": "code",
   "execution_count": 5,
   "id": "7a85c61d",
   "metadata": {},
   "outputs": [],
   "source": [
    "conn.execute ( \"delete from clientes where ID = 2;\" ) #sentencia para borrar la tabla\n",
    "conn.commit ()"
   ]
  },
  {
   "cell_type": "code",
   "execution_count": 22,
   "id": "5bbcebaa",
   "metadata": {},
   "outputs": [
    {
     "name": "stdout",
     "output_type": "stream",
     "text": [
      "[(1, 'Pablo', '04564729T', 'España'), (3, 'Laura', '00232458L', 'Alemania')]\n"
     ]
    }
   ],
   "source": [
    "consulta=\"select * from CLIENTES\"\n",
    "cursor.execute(consulta)\n",
    "resultado=cursor.fetchall()\n",
    "print(resultado)"
   ]
  },
  {
   "cell_type": "code",
   "execution_count": null,
   "id": "86ec5807",
   "metadata": {},
   "outputs": [],
   "source": []
  }
 ],
 "metadata": {
  "kernelspec": {
   "display_name": "Python 3 (ipykernel)",
   "language": "python",
   "name": "python3"
  },
  "language_info": {
   "codemirror_mode": {
    "name": "ipython",
    "version": 3
   },
   "file_extension": ".py",
   "mimetype": "text/x-python",
   "name": "python",
   "nbconvert_exporter": "python",
   "pygments_lexer": "ipython3",
   "version": "3.9.7"
  }
 },
 "nbformat": 4,
 "nbformat_minor": 5
}
